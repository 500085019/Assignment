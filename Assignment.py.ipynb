{
 "cells": [
  {
   "cell_type": "code",
   "execution_count": 3,
   "id": "4ecf0a0a-62d0-47e3-9a6c-6ea53e7a0143",
   "metadata": {},
   "outputs": [
    {
     "name": "stdout",
     "output_type": "stream",
     "text": [
      "{'New York': {'average_temperature': 77.5, 'average_humidity': 60.0}, 'Los Angeles': {'average_temperature': 85.0, 'average_humidity': 52.5}, 'Chicago': {'average_temperature': 70.0, 'average_humidity': 65.0}}\n"
     ]
    }
   ],
   "source": [
    "def aggregate_weather_data(records):\n",
    "    from collections import defaultdict\n",
    "    \n",
    "    city_data = defaultdict(lambda: {'temperature': [], 'humidity': []})\n",
    "    \n",
    "    # Aggregating data\n",
    "    for record in records:\n",
    "        city = record.get('city')\n",
    "        if city:\n",
    "            if 'temperature' in record:\n",
    "                city_data[city]['temperature'].append(record['temperature'])\n",
    "            if 'humidity' in record:\n",
    "                city_data[city]['humidity'].append(record['humidity'])\n",
    "    \n",
    "    # Calculating average temperature and humidity\n",
    "    result = {}\n",
    "    for city, data in city_data.items():\n",
    "        temp_avg = sum(data['temperature']) / len(data['temperature']) if data['temperature'] else None\n",
    "        hum_avg = sum(data['humidity']) / len(data['humidity']) if data['humidity'] else None\n",
    "        result[city] = {'average_temperature': temp_avg, 'average_humidity': hum_avg}\n",
    "    \n",
    "    return result\n",
    "\n",
    "# Example input\n",
    "records = [\n",
    "    {'city': 'New York', 'temperature': 75, 'humidity': 60},\n",
    "    {'city': 'New York', 'temperature': 80},\n",
    "    {'city': 'Los Angeles', 'humidity': 50},\n",
    "    {'city': 'Los Angeles', 'temperature': 85, 'humidity': 55},\n",
    "    {'city': 'Chicago', 'temperature': 70, 'humidity': 65}\n",
    "]\n",
    "\n",
    "# Output\n",
    "print(aggregate_weather_data(records))\n"
   ]
  },
  {
   "cell_type": "code",
   "execution_count": 4,
   "id": "ffeb5032-4899-4d49-8933-2b801c4e4648",
   "metadata": {},
   "outputs": [
    {
     "name": "stdout",
     "output_type": "stream",
     "text": [
      "[(2, 2), (3, 1), (5, 1)]\n"
     ]
    }
   ],
   "source": [
    "def prime_factorization(n):\n",
    "    def is_prime(num):\n",
    "        if num <= 1:\n",
    "            return False\n",
    "        for i in range(2, int(num**0.5) + 1):\n",
    "            if num % i == 0:\n",
    "                return False\n",
    "        return True\n",
    "\n",
    "    factors = []\n",
    "    count = 0\n",
    "    while n % 2 == 0:\n",
    "        n //= 2\n",
    "        count += 1\n",
    "    if count > 0:\n",
    "        factors.append((2, count))\n",
    "    \n",
    "    for i in range(3, int(n**0.5) + 1, 2):\n",
    "        count = 0\n",
    "        while n % i == 0:\n",
    "            n //= i\n",
    "            count += 1\n",
    "        if count > 0:\n",
    "            factors.append((i, count))\n",
    "    \n",
    "    if n > 2:\n",
    "        factors.append((n, 1))\n",
    "    \n",
    "    return factors\n",
    "\n",
    "# Example input\n",
    "number = 60\n",
    "\n",
    "# Output\n",
    "print(prime_factorization(number))\n"
   ]
  },
  {
   "cell_type": "code",
   "execution_count": null,
   "id": "f257ff7f-3f80-4523-b295-aae42ce0d793",
   "metadata": {},
   "outputs": [],
   "source": []
  }
 ],
 "metadata": {
  "kernelspec": {
   "display_name": "Python 3 (ipykernel)",
   "language": "python",
   "name": "python3"
  },
  "language_info": {
   "codemirror_mode": {
    "name": "ipython",
    "version": 3
   },
   "file_extension": ".py",
   "mimetype": "text/x-python",
   "name": "python",
   "nbconvert_exporter": "python",
   "pygments_lexer": "ipython3",
   "version": "3.11.7"
  }
 },
 "nbformat": 4,
 "nbformat_minor": 5
}
